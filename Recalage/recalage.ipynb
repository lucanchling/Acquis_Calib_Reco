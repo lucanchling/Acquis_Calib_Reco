{
 "cells": [
  {
   "cell_type": "code",
   "execution_count": 1,
   "metadata": {},
   "outputs": [],
   "source": [
    "import itk"
   ]
  },
  {
   "cell_type": "code",
   "execution_count": 2,
   "metadata": {},
   "outputs": [],
   "source": [
    "# ----------------------\n",
    "# Lecture de l'image\n",
    "# ----------------------\n",
    "input_filename = 'data/brain.png'\n",
    "image = itk.imread(input_filename)\n",
    "ImageType = type(image) # On récupère le type de l'image\n",
    "# ----------------------\n",
    "# Création et paramétrage du filtre\n",
    "# ----------------------\n",
    "# On créé une instance du filtre qui prend en entrée et ressort des images du même type que l'image d'entrée\n",
    "smoothFilter = itk.SmoothingRecursiveGaussianImageFilter[ImageType,ImageType].New() \n",
    "smoothFilter.SetInput(image) # On spécifie l'image d'entrée du filtre"
   ]
  },
  {
   "cell_type": "code",
   "execution_count": 4,
   "metadata": {},
   "outputs": [],
   "source": [
    "sigma = 5\n",
    "smoothFilter.SetSigma(sigma) # On sélectionne la variance du filtre\n",
    "# ----------------------\n",
    "# Écriture de la sortie du filtre\n",
    "# ----------------------\n",
    "# On écrit sur le disque la sortie du filtre Gaussien\n",
    "itk.imwrite(smoothFilter.GetOutput(), 'output/myImage_smoothed.png') "
   ]
  },
  {
   "cell_type": "code",
   "execution_count": 5,
   "metadata": {},
   "outputs": [],
   "source": [
    "absolutFilter = itk.AbsoluteValueDifferenceImageFilter[ImageType,ImageType,ImageType].New()\n",
    "absolutFilter.SetInput1(image)\n",
    "absolutFilter.SetInput2(smoothFilter.GetOutput())\n",
    "itk.imwrite(absolutFilter.GetOutput(), 'output/myImage_absolut.png')"
   ]
  },
  {
   "cell_type": "markdown",
   "metadata": {},
   "source": [
    "### Exercice 2"
   ]
  },
  {
   "cell_type": "code",
   "execution_count": 6,
   "metadata": {},
   "outputs": [],
   "source": [
    "fixed_image = itk.imread('data/BrainProtonDensitySliceBorder20.png')\n",
    "moving_image = itk.imread('data/BrainProtonDensitySliceShifted13x17y.png')"
   ]
  },
  {
   "cell_type": "code",
   "execution_count": 7,
   "metadata": {},
   "outputs": [],
   "source": [
    "optimizer = itk.RegularStepGradientDescentOptimizer.New() # Instance de laclasse d'optimiseur choisie\n",
    "optimizer.SetMaximumStepLength(10) # Borne supérieure du pas de descente (en pixel)\n",
    "optimizer.SetMinimumStepLength(1) # Borne inférieure du pas de descente (en pixel)\n",
    "optimizer.SetNumberOfIterations(50) # Nombre maximal d'itération"
   ]
  },
  {
   "cell_type": "code",
   "execution_count": 9,
   "metadata": {},
   "outputs": [],
   "source": [
    "initialTransform = itk.TranslationTransform[itk.D, 2].New() # Instance de la classe de transformation choisie\n",
    "initialParameters = initialTransform.GetParameters() # Récupération des paramètres de la transformation\n",
    "initialParameters[0] = 13 # Initialisation du paramètre de translation en x\n",
    "initialParameters[1] = -17 # Initialisation du paramètre de translation en y"
   ]
  },
  {
   "cell_type": "code",
   "execution_count": 11,
   "metadata": {},
   "outputs": [],
   "source": [
    "registration_filter = itk.ImageRegistrationMethod[ImageType, ImageType].New() # Instance de la classe de recalage choisie\n",
    "registration_filter.SetFixedImage(fixed_image) # Image de référence\n",
    "registration_filter.SetMovingImage(moving_image) # Image à recaler\n",
    "registration_filter.SetOptimizer(optimizer)\n",
    "registration_filter.SetTransform(initialTransform) # Transformation\n",
    "registration_filter.SetInitialTransformParameters(initialParameters) # Application de la transformation initiale\n",
    "registration_filter.SetInterpolator(itk.LinearInterpolateImageFunction[ImageType, itk.D].New()) # Interpolateur\n",
    "registration_filter.SetMetric(itk.MeanSquaresImageToImageMetric[ImageType, ImageType].New()) # Métrique\n",
    "registration_filter.Update() # Exécution du recalage"
   ]
  },
  {
   "cell_type": "code",
   "execution_count": 12,
   "metadata": {},
   "outputs": [],
   "source": [
    "final_transform = registration_filter.GetTransform()"
   ]
  },
  {
   "cell_type": "code",
   "execution_count": 13,
   "metadata": {},
   "outputs": [],
   "source": [
    "resample_filter = itk.ResampleImageFilter[ImageType,ImageType].New() # Instance de la classe de ré-échantillonnage\n",
    "resample_filter.SetInput(moving_image) # Image d'entrée\n",
    "resample_filter.SetTransform(final_transform)\n",
    "resample_filter.SetSize(fixed_image.GetLargestPossibleRegion().GetSize())\n",
    "itk.imwrite(resample_filter.GetOutput(), 'output/image_recalee.png') # Ecriture de l'image recalée sur le disque"
   ]
  }
 ],
 "metadata": {
  "kernelspec": {
   "display_name": "Python 3",
   "language": "python",
   "name": "python3"
  },
  "language_info": {
   "codemirror_mode": {
    "name": "ipython",
    "version": 3
   },
   "file_extension": ".py",
   "mimetype": "text/x-python",
   "name": "python",
   "nbconvert_exporter": "python",
   "pygments_lexer": "ipython3",
   "version": "3.7.2"
  }
 },
 "nbformat": 4,
 "nbformat_minor": 2
}
